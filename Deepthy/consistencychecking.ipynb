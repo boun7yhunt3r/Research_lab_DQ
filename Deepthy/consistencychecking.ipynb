{
 "cells": [
  {
   "cell_type": "code",
   "execution_count": 2,
   "metadata": {},
   "outputs": [],
   "source": [
    "import pandas as pd\n",
    "import numpy as np\n",
    "from math import log2"
   ]
  },
  {
   "cell_type": "code",
   "execution_count": 3,
   "metadata": {},
   "outputs": [
    {
     "name": "stdout",
     "output_type": "stream",
     "text": [
      "   Unnamed: 0  \\\n",
      "0           0   \n",
      "1           1   \n",
      "2           2   \n",
      "3           3   \n",
      "4           4   \n",
      "\n",
      "   Week of the month (first week, second, third, fourth or fifth week  \\\n",
      "0                                                  1                    \n",
      "1                                                  1                    \n",
      "2                                                  1                    \n",
      "3                                                  2                    \n",
      "4                                                  2                    \n",
      "\n",
      "   Day of the week (Monday to Friday)  Non-urgent order  Urgent order  \\\n",
      "0                                   4           316.307       223.270   \n",
      "1                                   5           128.633        96.042   \n",
      "2                                   6            43.651        84.375   \n",
      "3                                   2           171.297       127.667   \n",
      "4                                   3            90.532       113.526   \n",
      "\n",
      "   Order type A  Order type B  Order type C  Fiscal sector orders  \\\n",
      "0        61.543       175.586       302.448                 0.000   \n",
      "1        38.058        56.037       130.580                 0.000   \n",
      "2        21.826        25.125        82.461                 1.386   \n",
      "3        41.542       113.294       162.284                18.156   \n",
      "4        37.679        56.618       116.220                 6.459   \n",
      "\n",
      "   Orders from the traffic controller sector  Banking orders (1)  \\\n",
      "0                                      65556               44914   \n",
      "1                                      40419               21399   \n",
      "2                                      11992                3452   \n",
      "3                                      49971               33703   \n",
      "4                                      48534               19646   \n",
      "\n",
      "   Banking orders (2)  Banking orders (3)  Target (Total orders)  \n",
      "0              188411               14793                539.577  \n",
      "1               89461                7679                224.675  \n",
      "2               21305               14947                129.412  \n",
      "3               69054               18423                317.120  \n",
      "4               16411               20257                210.517  \n"
     ]
    }
   ],
   "source": [
    "\n",
    "\n",
    "df= pd.read_csv(r\"C:/Users/HP/Downloads/daily+demand+forecasting+orders.csv\")\n",
    "print(df.head()) \n",
    "\n"
   ]
  },
  {
   "cell_type": "code",
   "execution_count": 4,
   "metadata": {},
   "outputs": [
    {
     "name": "stdout",
     "output_type": "stream",
     "text": [
      "\n",
      "Attribute with the highest information gain: Non-urgent order\n",
      "Highest information gain value: 4.3219\n"
     ]
    }
   ],
   "source": [
    "\n",
    "\n",
    "# Calculate the entropy of a given column\n",
    "def calculate_entropy(column):\n",
    "    counts = column.value_counts()\n",
    "    probabilities = counts / len(column)\n",
    "    entropy = -sum(probabilities * np.log2(probabilities))\n",
    "    return entropy\n",
    "\n",
    "# Calculate the information gain of an attribute\n",
    "def calculate_information_gain(data, attribute, target):\n",
    "    attribute_entropy = 0\n",
    "    values = data[attribute].unique()\n",
    "    \n",
    "    for value in values:\n",
    "        subset = data[data[attribute] == value]\n",
    "        subset_entropy = calculate_entropy(subset[target])\n",
    "        weight = len(subset) / len(data)\n",
    "        attribute_entropy += weight * subset_entropy\n",
    "    \n",
    "    target_entropy = calculate_entropy(data[target])\n",
    "    information_gain = target_entropy - attribute_entropy\n",
    "    return information_gain\n",
    "\n",
    "# Find the attribute with the highest information gain\n",
    "target_attribute = 'Target (Total orders)'\n",
    "attributes = df.columns[:-1]\n",
    "information_gains = {}\n",
    "\n",
    "for attribute in attributes:\n",
    "    information_gain = calculate_information_gain(df, attribute, target_attribute)\n",
    "    information_gains[attribute] = information_gain\n",
    "\n",
    "highest_gain_attribute = max(information_gains, key=information_gains.get)\n",
    "highest_gain_value = information_gains[highest_gain_attribute]\n",
    "\n",
    "\n",
    "\n",
    "# Print the attribute with the highest information gain\n",
    "print(f\"\\nAttribute with the highest information gain: {highest_gain_attribute}\")\n",
    "print(f\"Highest information gain value: {highest_gain_value:.4f}\")\n"
   ]
  },
  {
   "cell_type": "code",
   "execution_count": 12,
   "metadata": {},
   "outputs": [
    {
     "name": "stdout",
     "output_type": "stream",
     "text": [
      "Data point 0: Consistency Score = 0.5862\n",
      "Data point 1: Consistency Score = 0.5725\n",
      "Data point 2: Consistency Score = 0.3373\n",
      "Data point 3: Consistency Score = 0.5402\n",
      "Data point 4: Consistency Score = 0.4300\n",
      "Data point 5: Consistency Score = 0.5349\n",
      "Data point 6: Consistency Score = 0.5479\n",
      "Data point 7: Consistency Score = 0.4795\n",
      "Data point 8: Consistency Score = 0.6357\n",
      "Data point 9: Consistency Score = 0.5898\n",
      "Data point 10: Consistency Score = 0.6340\n",
      "Data point 11: Consistency Score = 0.5989\n",
      "Data point 12: Consistency Score = 0.5535\n",
      "Data point 13: Consistency Score = 0.6063\n",
      "Data point 14: Consistency Score = 0.5752\n",
      "Data point 15: Consistency Score = 0.4969\n",
      "Data point 16: Consistency Score = 0.4664\n",
      "Data point 17: Consistency Score = 0.4522\n",
      "Data point 18: Consistency Score = 0.5951\n",
      "Data point 19: Consistency Score = 0.4390\n",
      "Consistency Score: 0.5335785615524851\n"
     ]
    }
   ],
   "source": [
    "\n",
    "\n",
    "# Calculate the consistency score\n",
    "consistency_score = (df['Non-urgent order']) / df['Target (Total orders)']\n",
    "for i, score in enumerate(consistency_score):\n",
    "    print(f\"Data point {i}: Consistency Score = {score:.4f}\")\n",
    "average_consistency_score = consistency_score.mean()\n",
    "\n",
    "print(\"Consistency Score:\", average_consistency_score)\n"
   ]
  }
 ],
 "metadata": {
  "kernelspec": {
   "display_name": "Python 3",
   "language": "python",
   "name": "python3"
  },
  "language_info": {
   "codemirror_mode": {
    "name": "ipython",
    "version": 3
   },
   "file_extension": ".py",
   "mimetype": "text/x-python",
   "name": "python",
   "nbconvert_exporter": "python",
   "pygments_lexer": "ipython3",
   "version": "3.10.0"
  },
  "orig_nbformat": 4
 },
 "nbformat": 4,
 "nbformat_minor": 2
}
