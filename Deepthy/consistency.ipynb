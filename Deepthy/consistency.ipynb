{
 "cells": [
  {
   "cell_type": "code",
   "execution_count": 1,
   "metadata": {},
   "outputs": [],
   "source": [
    "import numpy as np"
   ]
  },
  {
   "cell_type": "code",
   "execution_count": 2,
   "metadata": {},
   "outputs": [
    {
     "name": "stdout",
     "output_type": "stream",
     "text": [
      "Data point 0: Consistency Score = 2.7076\n",
      "Data point 1: Consistency Score = -0.4853\n",
      "Data point 2: Consistency Score = -1.9311\n",
      "Data point 3: Consistency Score = 0.2406\n",
      "Data point 4: Consistency Score = -1.1335\n",
      "Data point 5: Consistency Score = -0.7865\n",
      "Data point 6: Consistency Score = -0.2217\n",
      "Data point 7: Consistency Score = -0.6427\n",
      "Data point 8: Consistency Score = 1.0497\n",
      "Data point 9: Consistency Score = -0.1810\n",
      "Data point 10: Consistency Score = 0.3620\n",
      "Data point 11: Consistency Score = -0.1921\n",
      "Data point 12: Consistency Score = 0.2281\n",
      "Data point 13: Consistency Score = 1.0750\n",
      "Data point 14: Consistency Score = 0.6229\n",
      "Data point 15: Consistency Score = -0.5856\n",
      "Data point 16: Consistency Score = -0.2230\n",
      "Data point 17: Consistency Score = -0.8803\n",
      "Data point 18: Consistency Score = 1.4206\n",
      "Data point 19: Consistency Score = -0.4439\n"
     ]
    }
   ],
   "source": [
    "# Non-urgent order data\n",
    "non_urgent_order = [316.307, 128.633, 43.651, 171.297, 90.532, 110.925, 144.124, 119.379, 218.856, 146.518,\n",
    "                    178.433, 145.865, 170.566, 220.343, 193.768, 122.736, 144.051, 105.415, 240.66, 131.067]\n",
    "\n",
    "# Calculate mean of Non-urgent order\n",
    "mean_non_urgent = np.mean(non_urgent_order)\n",
    "\n",
    "# Calculate standard deviation of Non-urgent order\n",
    "std_non_urgent = np.std(non_urgent_order)\n",
    "\n",
    "# Calculate consistency score for each data point\n",
    "consistency_scores = [(order - mean_non_urgent) / std_non_urgent for order in non_urgent_order]\n",
    "\n",
    "# Print consistency scores\n",
    "for i, score in enumerate(consistency_scores):\n",
    "    print(f\"Data point {i}: Consistency Score = {score:.4f}\")"
   ]
  }
 ],
 "metadata": {
  "kernelspec": {
   "display_name": "Python 3",
   "language": "python",
   "name": "python3"
  },
  "language_info": {
   "codemirror_mode": {
    "name": "ipython",
    "version": 3
   },
   "file_extension": ".py",
   "mimetype": "text/x-python",
   "name": "python",
   "nbconvert_exporter": "python",
   "pygments_lexer": "ipython3",
   "version": "3.10.5"
  },
  "orig_nbformat": 4
 },
 "nbformat": 4,
 "nbformat_minor": 2
}
