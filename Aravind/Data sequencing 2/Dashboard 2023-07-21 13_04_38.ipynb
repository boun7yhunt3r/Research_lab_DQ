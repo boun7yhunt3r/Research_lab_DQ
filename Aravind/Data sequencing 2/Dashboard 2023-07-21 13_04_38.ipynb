{
 "cells": [
  {
   "cell_type": "code",
   "execution_count": 0,
   "metadata": {
    "application/vnd.databricks.v1+cell": {
     "cellMetadata": {
      "byteLimit": 2048000,
      "rowLimit": 10000
     },
     "inputWidgets": {},
     "nuid": "85773ddc-c2c9-4bdc-874a-0de872d5a268",
     "showTitle": false,
     "title": ""
    }
   },
   "outputs": [],
   "source": [
    "import pandas as pd\n",
    "import matplotlib.pyplot as plt\n",
    "import seaborn as sns\n",
    "import numpy as np\n",
    "from pyspark.sql.functions import col, count, isnan, when\n"
   ]
  },
  {
   "cell_type": "code",
   "execution_count": 0,
   "metadata": {
    "application/vnd.databricks.v1+cell": {
     "cellMetadata": {
      "byteLimit": 2048000,
      "rowLimit": 10000
     },
     "inputWidgets": {},
     "nuid": "1ef65d73-4baf-4796-9d98-4894ee65c4ed",
     "showTitle": false,
     "title": ""
    }
   },
   "outputs": [],
   "source": [
    "# Load the dataset into a DataFrame\n",
    "file_path = \"dbfs:/user/hive/warehouse/air_quality_uci\" \n",
    "\n",
    "df = spark.read.format(\"delta\").load(file_path)\n"
   ]
  },
  {
   "cell_type": "code",
   "execution_count": 0,
   "metadata": {
    "application/vnd.databricks.v1+cell": {
     "cellMetadata": {
      "byteLimit": 2048000,
      "rowLimit": 10000
     },
     "inputWidgets": {},
     "nuid": "bcb64a82-7eb5-4cf3-89cf-ccc6d187b243",
     "showTitle": false,
     "title": ""
    }
   },
   "outputs": [],
   "source": [
    "def calculate_data_quality_metrics(selected_column):\n",
    "    total_rows = df.count()\n",
    "    missing_values = df.where(col(selected_column).isNull() | isnan(col(selected_column))).count()\n",
    "    percentage_missing = (missing_values / total_rows) * 100\n",
    "\n",
    "    return total_rows, missing_values, percentage_missing\n"
   ]
  },
  {
   "cell_type": "code",
   "execution_count": 0,
   "metadata": {
    "application/vnd.databricks.v1+cell": {
     "cellMetadata": {
      "byteLimit": 2048000,
      "rowLimit": 10000
     },
     "inputWidgets": {},
     "nuid": "91b42525-c0e2-412c-b44d-a4b2d7caad99",
     "showTitle": false,
     "title": ""
    }
   },
   "outputs": [
    {
     "output_type": "stream",
     "name": "stdout",
     "output_type": "stream",
     "text": [
      "Python interpreter will be restarted.\nRequirement already satisfied: plotly in /databricks/python3/lib/python3.9/site-packages (5.6.0)\nRequirement already satisfied: six in /databricks/python3/lib/python3.9/site-packages (from plotly) (1.16.0)\nRequirement already satisfied: tenacity>=6.2.0 in /databricks/python3/lib/python3.9/site-packages (from plotly) (8.0.1)\nPython interpreter will be restarted.\n"
     ]
    }
   ],
   "source": [
    "pip install plotly"
   ]
  },
  {
   "cell_type": "code",
   "execution_count": 0,
   "metadata": {
    "application/vnd.databricks.v1+cell": {
     "cellMetadata": {
      "byteLimit": 2048000,
      "rowLimit": 10000
     },
     "inputWidgets": {},
     "nuid": "71765cd9-9531-48ee-ba79-a548b2eaede4",
     "showTitle": false,
     "title": ""
    }
   },
   "outputs": [
    {
     "output_type": "display_data",
     "data": {
      "application/vnd.jupyter.widget-view+json": {
       "model_id": "f054218308b948148391101707ae9629",
       "version_major": 2,
       "version_minor": 0
      },
      "text/plain": [
       "interactive(children=(Dropdown(description='Select Column:', options=('Date', 'Time', 'CO(GT)', 'PT08.S1(CO)',…"
      ]
     },
     "metadata": {},
     "output_type": "display_data"
    }
   ],
   "source": [
    "import pandas as pd\n",
    "import pyspark.sql.functions as F\n",
    "import matplotlib.pyplot as plt\n",
    "import ipywidgets as widgets\n",
    "from ipywidgets import interact\n",
    "\n",
    "# Load the dataset into a DataFrame\n",
    "file_path = \"dbfs:/user/hive/warehouse/air_quality_uci\" \n",
    "df = spark.read.format(\"delta\").load(file_path)\n",
    "\n",
    "def calculate_data_quality_metrics(selected_column):\n",
    "    total_rows = df.count()\n",
    "\n",
    "    # Handle column name with special characters using backticks\n",
    "    if selected_column == 'Date':\n",
    "        missing_values = df.where(F.col(selected_column).isNull()).count()\n",
    "    else:\n",
    "        missing_values = df.where(F.col(\"`{}`\".format(selected_column)).isNull() | F.isnan(F.col(\"`{}`\".format(selected_column)))).count()\n",
    "\n",
    "    percentage_missing = (missing_values / total_rows) * 100\n",
    "\n",
    "    return total_rows, missing_values, percentage_missing\n",
    "\n",
    "columns_list = df.columns\n",
    "\n",
    "@interact(selected_column=widgets.Dropdown(options=columns_list, description='Select Column:'))\n",
    "def update_dashboard(selected_column):\n",
    "    total_rows, missing_values, percentage_missing = calculate_data_quality_metrics(selected_column)\n",
    "\n",
    "    # Data quality metrics table\n",
    "    data = {\n",
    "        'Total Rows': [total_rows],\n",
    "        'Missing Values': [missing_values],\n",
    "        'Percentage Missing': [percentage_missing],\n",
    "    }\n",
    "    df_metrics = pd.DataFrame(data)\n",
    "\n",
    "    # Bar chart for missing values count\n",
    "    plt.figure(figsize=(8, 4))\n",
    "    plt.bar(df_metrics.columns, df_metrics.iloc[0])\n",
    "    plt.xlabel('Metrics')\n",
    "    plt.ylabel('Count')\n",
    "    plt.title('Data Quality Metrics')\n",
    "    plt.show()\n",
    "\n",
    "    # Display the data quality metrics table\n",
    "    display(df_metrics)\n",
    "\n",
    "\n",
    "\n"
   ]
  }
 ],
 "metadata": {
  "application/vnd.databricks.v1+notebook": {
   "dashboards": [
    {
     "elements": [],
     "globalVars": {},
     "guid": "09d535f3-ff95-4523-97ae-c7b79d986230",
     "layoutOption": {
      "grid": true,
      "stack": true
     },
     "nuid": "9491080f-cba3-4124-b295-b2695459bc1c",
     "origId": 3380707515623158,
     "title": "Untitled",
     "version": "DashboardViewV1",
     "width": 1024
    }
   ],
   "language": "python",
   "notebookMetadata": {
    "pythonIndentUnit": 4
   },
   "notebookName": "Dashboard 2023-07-21 13:04:38",
   "widgets": {}
  }
 },
 "nbformat": 4,
 "nbformat_minor": 0
}
