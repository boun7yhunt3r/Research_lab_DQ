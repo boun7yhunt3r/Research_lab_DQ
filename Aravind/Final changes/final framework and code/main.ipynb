{
 "cells": [
  {
   "cell_type": "code",
   "execution_count": 1,
   "metadata": {},
   "outputs": [],
   "source": [
    "##import data_quality as dq\n",
    "import pandas as pd\n",
    "import urllib.request\n",
    "from zipfile import ZipFile\n",
    "from importlib import reload\n",
    "\n",
    "from Framework.data_quality import DataQualityChecker\n",
    "from Visualization.dashboard import Dashboard"
   ]
  },
  {
   "cell_type": "code",
   "execution_count": 2,
   "metadata": {},
   "outputs": [
    {
     "name": "stdout",
     "output_type": "stream",
     "text": [
      "[{'Column': 'CO(GT)', 'RelevancyScore': 9357}, {'Column': 'PT08.S1(CO)', 'RelevancyScore': 8990}, {'Column': 'NMHC(GT)', 'RelevancyScore': 9087}, {'Column': 'C6H6(GT)', 'RelevancyScore': 8991}, {'Column': 'PT08.S2(NMHC)', 'RelevancyScore': 8982}, {'Column': 'NOx(GT)', 'RelevancyScore': 9247}, {'Column': 'PT08.S3(NOx)', 'RelevancyScore': 8935}, {'Column': 'NO2(GT)', 'RelevancyScore': 9357}, {'Column': 'PT08.S4(NO2)', 'RelevancyScore': 8991}, {'Column': 'PT08.S5(O3)', 'RelevancyScore': 9338}, {'Column': 'T', 'RelevancyScore': 8991}, {'Column': 'RH', 'RelevancyScore': 8991}, {'Column': 'AH', 'RelevancyScore': 8991}]\n",
      "[]\n"
     ]
    }
   ],
   "source": [
    "# Download the ZIP file\n",
    "url = \"https://archive.ics.uci.edu/ml/machine-learning-databases/00360/AirQualityUCI.zip\"\n",
    "filename = \"AirQualityUCI.zip\"\n",
    "urllib.request.urlretrieve(url, filename)\n",
    "\n",
    "# Extract the CSV file from the ZIP file\n",
    "with ZipFile(filename, \"r\") as zip_file:\n",
    "    csv_file = zip_file.open(\"AirQualityUCI.csv\")\n",
    "\n",
    "    # Read the CSV file into a DataFrame\n",
    "    data = pd.read_csv(csv_file, sep=\";\", decimal=\",\")\n",
    "\n",
    "\n",
    "# Create an instance of DataQualityChecker\n",
    "checker = DataQualityChecker(data)\n",
    "columns_of_interest = [\"CO(GT)\", \"PT08.S1(CO)\", \"NMHC(GT)\", \"C6H6(GT)\", \"PT08.S2(NMHC)\", \"NOx(GT)\",\n",
    "                       \"PT08.S3(NOx)\", \"NO2(GT)\", \"PT08.S4(NO2)\", \"PT08.S5(O3)\", \"T\", \"RH\", \"AH\"]\n",
    "\n",
    "# Add expectation\n",
    "Consistency_score = checker.calculate_consistency_scores(columns_of_interest)\n",
    "\n",
    "between_expectation = checker.expect_column_min_to_be_between(\"PT08.S1(CO)\",800,1000)\n",
    "\n",
    "Relevancy_score = checker.calculate_relevancy_scores(columns_of_interest,3)\n",
    "\n",
    "\n",
    "\n",
    "report = checker.run_checks()\n",
    "print(report)"
   ]
  },
  {
   "cell_type": "code",
   "execution_count": null,
   "metadata": {},
   "outputs": [],
   "source": [
    "\n",
    "\n"
   ]
  }
 ],
 "metadata": {
  "kernelspec": {
   "display_name": "Python 3",
   "language": "python",
   "name": "python3"
  },
  "language_info": {
   "codemirror_mode": {
    "name": "ipython",
    "version": 3
   },
   "file_extension": ".py",
   "mimetype": "text/x-python",
   "name": "python",
   "nbconvert_exporter": "python",
   "pygments_lexer": "ipython3",
   "version": "3.10.5"
  },
  "orig_nbformat": 4
 },
 "nbformat": 4,
 "nbformat_minor": 2
}
