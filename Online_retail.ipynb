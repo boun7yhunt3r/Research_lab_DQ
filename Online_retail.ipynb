{
  "nbformat": 4,
  "nbformat_minor": 0,
  "metadata": {
    "colab": {
      "provenance": []
    },
    "kernelspec": {
      "name": "python3",
      "display_name": "Python 3"
    },
    "language_info": {
      "name": "python"
    }
  },
  "cells": [
    {
      "cell_type": "code",
      "execution_count": 29,
      "metadata": {
        "id": "8wGQY5GhoGPA"
      },
      "outputs": [],
      "source": [
        "import pandas as pd\n",
        "import numpy as np\n",
        "\n",
        "from sklearn.feature_selection import chi2\n",
        "from sklearn.feature_selection import mutual_info_regression\n",
        "from scipy.stats import pearsonr"
      ]
    },
    {
      "cell_type": "code",
      "source": [
        "df= pd.read_excel('sample1.xlsx')\n",
        "df.head(5)"
      ],
      "metadata": {
        "colab": {
          "base_uri": "https://localhost:8080/",
          "height": 337
        },
        "id": "T684QoqxsApU",
        "outputId": "d0dae1f0-54e3-48fb-c69c-00725c0afa05"
      },
      "execution_count": 40,
      "outputs": [
        {
          "output_type": "execute_result",
          "data": {
            "text/plain": [
              "   InvoiceNo StockCode                          Description  Quantity  \\\n",
              "0     536365    85123A   WHITE HANGING HEART T-LIGHT HOLDER         6   \n",
              "1     536365     71053                  WHITE METAL LANTERN         6   \n",
              "2     536365    84406B       CREAM CUPID HEARTS COAT HANGER         8   \n",
              "3     536365    84029G  KNITTED UNION FLAG HOT WATER BOTTLE         6   \n",
              "4     536365    84029E       RED WOOLLY HOTTIE WHITE HEART.         6   \n",
              "\n",
              "          InvoiceDate  UnitPrice  CustomerID         Country  \n",
              "0 2010-12-01 08:26:00       2.55       17850  United Kingdom  \n",
              "1 2010-12-01 08:26:00       3.39       17850  United Kingdom  \n",
              "2 2010-12-01 08:26:00       2.75       17850  United Kingdom  \n",
              "3 2010-12-01 08:26:00       3.39       17850  United Kingdom  \n",
              "4 2010-12-01 08:26:00       3.39       17850  United Kingdom  "
            ],
            "text/html": [
              "\n",
              "  <div id=\"df-c234cd96-1c9c-47dd-9b39-1c6c4bd40c5e\">\n",
              "    <div class=\"colab-df-container\">\n",
              "      <div>\n",
              "<style scoped>\n",
              "    .dataframe tbody tr th:only-of-type {\n",
              "        vertical-align: middle;\n",
              "    }\n",
              "\n",
              "    .dataframe tbody tr th {\n",
              "        vertical-align: top;\n",
              "    }\n",
              "\n",
              "    .dataframe thead th {\n",
              "        text-align: right;\n",
              "    }\n",
              "</style>\n",
              "<table border=\"1\" class=\"dataframe\">\n",
              "  <thead>\n",
              "    <tr style=\"text-align: right;\">\n",
              "      <th></th>\n",
              "      <th>InvoiceNo</th>\n",
              "      <th>StockCode</th>\n",
              "      <th>Description</th>\n",
              "      <th>Quantity</th>\n",
              "      <th>InvoiceDate</th>\n",
              "      <th>UnitPrice</th>\n",
              "      <th>CustomerID</th>\n",
              "      <th>Country</th>\n",
              "    </tr>\n",
              "  </thead>\n",
              "  <tbody>\n",
              "    <tr>\n",
              "      <th>0</th>\n",
              "      <td>536365</td>\n",
              "      <td>85123A</td>\n",
              "      <td>WHITE HANGING HEART T-LIGHT HOLDER</td>\n",
              "      <td>6</td>\n",
              "      <td>2010-12-01 08:26:00</td>\n",
              "      <td>2.55</td>\n",
              "      <td>17850</td>\n",
              "      <td>United Kingdom</td>\n",
              "    </tr>\n",
              "    <tr>\n",
              "      <th>1</th>\n",
              "      <td>536365</td>\n",
              "      <td>71053</td>\n",
              "      <td>WHITE METAL LANTERN</td>\n",
              "      <td>6</td>\n",
              "      <td>2010-12-01 08:26:00</td>\n",
              "      <td>3.39</td>\n",
              "      <td>17850</td>\n",
              "      <td>United Kingdom</td>\n",
              "    </tr>\n",
              "    <tr>\n",
              "      <th>2</th>\n",
              "      <td>536365</td>\n",
              "      <td>84406B</td>\n",
              "      <td>CREAM CUPID HEARTS COAT HANGER</td>\n",
              "      <td>8</td>\n",
              "      <td>2010-12-01 08:26:00</td>\n",
              "      <td>2.75</td>\n",
              "      <td>17850</td>\n",
              "      <td>United Kingdom</td>\n",
              "    </tr>\n",
              "    <tr>\n",
              "      <th>3</th>\n",
              "      <td>536365</td>\n",
              "      <td>84029G</td>\n",
              "      <td>KNITTED UNION FLAG HOT WATER BOTTLE</td>\n",
              "      <td>6</td>\n",
              "      <td>2010-12-01 08:26:00</td>\n",
              "      <td>3.39</td>\n",
              "      <td>17850</td>\n",
              "      <td>United Kingdom</td>\n",
              "    </tr>\n",
              "    <tr>\n",
              "      <th>4</th>\n",
              "      <td>536365</td>\n",
              "      <td>84029E</td>\n",
              "      <td>RED WOOLLY HOTTIE WHITE HEART.</td>\n",
              "      <td>6</td>\n",
              "      <td>2010-12-01 08:26:00</td>\n",
              "      <td>3.39</td>\n",
              "      <td>17850</td>\n",
              "      <td>United Kingdom</td>\n",
              "    </tr>\n",
              "  </tbody>\n",
              "</table>\n",
              "</div>\n",
              "      <button class=\"colab-df-convert\" onclick=\"convertToInteractive('df-c234cd96-1c9c-47dd-9b39-1c6c4bd40c5e')\"\n",
              "              title=\"Convert this dataframe to an interactive table.\"\n",
              "              style=\"display:none;\">\n",
              "        \n",
              "  <svg xmlns=\"http://www.w3.org/2000/svg\" height=\"24px\"viewBox=\"0 0 24 24\"\n",
              "       width=\"24px\">\n",
              "    <path d=\"M0 0h24v24H0V0z\" fill=\"none\"/>\n",
              "    <path d=\"M18.56 5.44l.94 2.06.94-2.06 2.06-.94-2.06-.94-.94-2.06-.94 2.06-2.06.94zm-11 1L8.5 8.5l.94-2.06 2.06-.94-2.06-.94L8.5 2.5l-.94 2.06-2.06.94zm10 10l.94 2.06.94-2.06 2.06-.94-2.06-.94-.94-2.06-.94 2.06-2.06.94z\"/><path d=\"M17.41 7.96l-1.37-1.37c-.4-.4-.92-.59-1.43-.59-.52 0-1.04.2-1.43.59L10.3 9.45l-7.72 7.72c-.78.78-.78 2.05 0 2.83L4 21.41c.39.39.9.59 1.41.59.51 0 1.02-.2 1.41-.59l7.78-7.78 2.81-2.81c.8-.78.8-2.07 0-2.86zM5.41 20L4 18.59l7.72-7.72 1.47 1.35L5.41 20z\"/>\n",
              "  </svg>\n",
              "      </button>\n",
              "      \n",
              "  <style>\n",
              "    .colab-df-container {\n",
              "      display:flex;\n",
              "      flex-wrap:wrap;\n",
              "      gap: 12px;\n",
              "    }\n",
              "\n",
              "    .colab-df-convert {\n",
              "      background-color: #E8F0FE;\n",
              "      border: none;\n",
              "      border-radius: 50%;\n",
              "      cursor: pointer;\n",
              "      display: none;\n",
              "      fill: #1967D2;\n",
              "      height: 32px;\n",
              "      padding: 0 0 0 0;\n",
              "      width: 32px;\n",
              "    }\n",
              "\n",
              "    .colab-df-convert:hover {\n",
              "      background-color: #E2EBFA;\n",
              "      box-shadow: 0px 1px 2px rgba(60, 64, 67, 0.3), 0px 1px 3px 1px rgba(60, 64, 67, 0.15);\n",
              "      fill: #174EA6;\n",
              "    }\n",
              "\n",
              "    [theme=dark] .colab-df-convert {\n",
              "      background-color: #3B4455;\n",
              "      fill: #D2E3FC;\n",
              "    }\n",
              "\n",
              "    [theme=dark] .colab-df-convert:hover {\n",
              "      background-color: #434B5C;\n",
              "      box-shadow: 0px 1px 3px 1px rgba(0, 0, 0, 0.15);\n",
              "      filter: drop-shadow(0px 1px 2px rgba(0, 0, 0, 0.3));\n",
              "      fill: #FFFFFF;\n",
              "    }\n",
              "  </style>\n",
              "\n",
              "      <script>\n",
              "        const buttonEl =\n",
              "          document.querySelector('#df-c234cd96-1c9c-47dd-9b39-1c6c4bd40c5e button.colab-df-convert');\n",
              "        buttonEl.style.display =\n",
              "          google.colab.kernel.accessAllowed ? 'block' : 'none';\n",
              "\n",
              "        async function convertToInteractive(key) {\n",
              "          const element = document.querySelector('#df-c234cd96-1c9c-47dd-9b39-1c6c4bd40c5e');\n",
              "          const dataTable =\n",
              "            await google.colab.kernel.invokeFunction('convertToInteractive',\n",
              "                                                     [key], {});\n",
              "          if (!dataTable) return;\n",
              "\n",
              "          const docLinkHtml = 'Like what you see? Visit the ' +\n",
              "            '<a target=\"_blank\" href=https://colab.research.google.com/notebooks/data_table.ipynb>data table notebook</a>'\n",
              "            + ' to learn more about interactive tables.';\n",
              "          element.innerHTML = '';\n",
              "          dataTable['output_type'] = 'display_data';\n",
              "          await google.colab.output.renderOutput(dataTable, element);\n",
              "          const docLink = document.createElement('div');\n",
              "          docLink.innerHTML = docLinkHtml;\n",
              "          element.appendChild(docLink);\n",
              "        }\n",
              "      </script>\n",
              "    </div>\n",
              "  </div>\n",
              "  "
            ]
          },
          "metadata": {},
          "execution_count": 40
        }
      ]
    },
    {
      "cell_type": "code",
      "source": [
        "#calculating mutual information\n",
        "# Select the target variable and predictor variables\n",
        "target_variable = \"Quantity\"\n",
        "predictor_variables = [\"StockCode\", \"Description\", \"UnitPrice\", \"CustomerID\"]"
      ],
      "metadata": {
        "id": "0Xl5UAJesILV"
      },
      "execution_count": 41,
      "outputs": []
    },
    {
      "cell_type": "code",
      "source": [
        "# Subset the DataFrame to include only the relevant columns\n",
        "data = df[[target_variable] + predictor_variables]\n",
        "\n",
        "# Drop any rows with missing values\n",
        "data = data.dropna()\n",
        "\n",
        "# Convert the categorical variables to numeric labels\n",
        "for variable in predictor_variables:\n",
        "    data[variable] = data[variable].astype('category').cat.codes\n",
        "\n",
        "# Separate the target variable from the predictor variables\n",
        "X = data[predictor_variables]\n",
        "y = data[target_variable]\n",
        "\n",
        "# Calculate chi-square scores\n",
        "chi_scores = np.array(chi2(X, y)[1])  # Use the p-values from chi2 test\n",
        "\n",
        "# Print the chi-square scores for each predictor variable\n",
        "for variable, score in zip(predictor_variables, chi_scores):\n",
        "    print(f\"Chi-Square p-value for {variable}: {score}\")"
      ],
      "metadata": {
        "colab": {
          "base_uri": "https://localhost:8080/"
        },
        "id": "sX4s90BtvIRr",
        "outputId": "1e68b88f-e7af-4bcc-b0f2-f1fb3046dc3f"
      },
      "execution_count": 42,
      "outputs": [
        {
          "output_type": "stream",
          "name": "stdout",
          "text": [
            "Chi-Square p-value for StockCode: 5.507066916944055e-24\n",
            "Chi-Square p-value for Description: 1.2237974663978213e-06\n",
            "Chi-Square p-value for UnitPrice: 5.206291980965743e-15\n",
            "Chi-Square p-value for CustomerID: 7.753594988280206e-06\n"
          ]
        }
      ]
    },
    {
      "cell_type": "markdown",
      "source": [
        " Used chi function instead of mutaul information to find the dependent variables, since they are categorical and not numerical.\n",
        "  calculated the chi-square scores for each predictor variable,indicating the relevance of each variable with respect to the categorical target variable (e.g., \"Quantity\").\n",
        "  Higher chi-square scores means a stronger association between the predictor and target variables. (According to our research question - they are needed to identify sales behavior)\n",
        "  So description is not related to quanity(which we set as a target variable to identify sales behavior)"
      ],
      "metadata": {
        "id": "LFY0VInW0E-4"
      }
    },
    {
      "cell_type": "code",
      "source": [
        "# Calculate the mutual information scores\n",
        "mi_scores = np.array(mutual_info_regression(X, y))\n",
        "\n",
        "# Calculate the correlation coefficients\n",
        "correlation_scores = np.array([abs(pearsonr(X[variable], y)[0]) for variable in predictor_variables])\n",
        "\n",
        "# Define the weights for each measure\n",
        "chi_weight = 1.0\n",
        "mi_weight = 0.5\n",
        "correlation_weight = 0.2\n",
        "\n",
        "# Calculate the relevance scores\n",
        "relevance_scores = chi_weight * chi_scores + mi_weight * mi_scores + correlation_weight * correlation_scores\n",
        "\n",
        "# Print the relevance scores for each predictor variable\n",
        "for variable, score in zip(predictor_variables, relevance_scores):\n",
        "    print(f\"Relevance score for {variable}: {score}\")"
      ],
      "metadata": {
        "colab": {
          "base_uri": "https://localhost:8080/"
        },
        "id": "7tk5BoToyERN",
        "outputId": "b02efe1e-7023-4a43-e6a4-0f5d6c294075"
      },
      "execution_count": 43,
      "outputs": [
        {
          "output_type": "stream",
          "name": "stdout",
          "text": [
            "Relevance score for StockCode: 0.11889343187655863\n",
            "Relevance score for Description: 0.0008127222122056888\n",
            "Relevance score for UnitPrice: 0.23414804127703498\n",
            "Relevance score for CustomerID: 0.17641567678683806\n"
          ]
        }
      ]
    },
    {
      "cell_type": "markdown",
      "source": [
        "Now let's try to improve the relevance score\n",
        "1) Introducing new coloumn sales data."
      ],
      "metadata": {
        "id": "1KL7-t3u2ZdN"
      }
    },
    {
      "cell_type": "markdown",
      "source": [],
      "metadata": {
        "id": "TQ9jf6L20ACf"
      }
    },
    {
      "cell_type": "code",
      "source": [
        "df_new = df.copy()\n",
        "df_new['TotalSales'] = df_new.groupby('CustomerID')['Quantity'].transform('sum')\n",
        "# Calculate average unit price per stock code\n",
        "df_new['AvgUnitPrice'] = df_new.groupby('StockCode')['UnitPrice'].transform('mean')\n",
        "\n",
        "# Extract month, day, and hour from InvoiceDate\n",
        "df_new['InvoiceMonth'] = df_new['InvoiceDate'].dt.month\n",
        "df_new['InvoiceDay'] = df_new['InvoiceDate'].dt.day\n",
        "df_new['InvoiceHour'] = df_new['InvoiceDate'].dt.hour\n",
        "\n",
        "\n",
        "# Calculate the number of unique products purchased per customer\n",
        "df_new['UniqueProducts'] = df_new.groupby('CustomerID')['StockCode'].transform('nunique')\n",
        "\n",
        "# Print the updated DataFrame with the new features\n",
        "print(df_new.head(15))\n",
        "\n",
        "\n"
      ],
      "metadata": {
        "colab": {
          "base_uri": "https://localhost:8080/"
        },
        "id": "cEoAfCypzrxr",
        "outputId": "1874b8bc-0f22-4dca-9f3a-7c662b03b015"
      },
      "execution_count": 48,
      "outputs": [
        {
          "output_type": "stream",
          "name": "stdout",
          "text": [
            "    InvoiceNo StockCode                          Description  Quantity  \\\n",
            "0      536365    85123A   WHITE HANGING HEART T-LIGHT HOLDER         6   \n",
            "1      536365     71053                  WHITE METAL LANTERN         6   \n",
            "2      536365    84406B       CREAM CUPID HEARTS COAT HANGER         8   \n",
            "3      536365    84029G  KNITTED UNION FLAG HOT WATER BOTTLE         6   \n",
            "4      536365    84029E       RED WOOLLY HOTTIE WHITE HEART.         6   \n",
            "5      536365     22752         SET 7 BABUSHKA NESTING BOXES         2   \n",
            "6      536365     21730    GLASS STAR FROSTED T-LIGHT HOLDER         6   \n",
            "7      536366     22633               HAND WARMER UNION JACK         6   \n",
            "8      536366     22632            HAND WARMER RED POLKA DOT         6   \n",
            "9      536367     84879        ASSORTED COLOUR BIRD ORNAMENT        32   \n",
            "10     536367     22745           POPPY'S PLAYHOUSE BEDROOM          6   \n",
            "11     536367     22748            POPPY'S PLAYHOUSE KITCHEN         6   \n",
            "12     536367     22749    FELTCRAFT PRINCESS CHARLOTTE DOLL         8   \n",
            "13     536367     22310              IVORY KNITTED MUG COSY          6   \n",
            "14     536367     84969   BOX OF 6 ASSORTED COLOUR TEASPOONS         6   \n",
            "\n",
            "           InvoiceDate  UnitPrice  CustomerID         Country  TotalSales  \\\n",
            "0  2010-12-01 08:26:00       2.55       17850  United Kingdom          70   \n",
            "1  2010-12-01 08:26:00       3.39       17850  United Kingdom          70   \n",
            "2  2010-12-01 08:26:00       2.75       17850  United Kingdom          70   \n",
            "3  2010-12-01 08:26:00       3.39       17850  United Kingdom          70   \n",
            "4  2010-12-01 08:26:00       3.39       17850  United Kingdom          70   \n",
            "5  2010-12-01 08:26:00       7.65       17850  United Kingdom          70   \n",
            "6  2010-12-01 08:26:00       4.25       17850  United Kingdom          70   \n",
            "7  2010-12-01 08:28:00       1.85       17850  United Kingdom          70   \n",
            "8  2010-12-01 08:28:00       1.85       17850  United Kingdom          70   \n",
            "9  2010-12-01 08:34:00       1.69       13047  United Kingdom         101   \n",
            "10 2010-12-01 08:34:00       2.10       13047  United Kingdom         101   \n",
            "11 2010-12-01 08:34:00       2.10       13047  United Kingdom         101   \n",
            "12 2010-12-01 08:34:00       3.75       13047  United Kingdom         101   \n",
            "13 2010-12-01 08:34:00       1.65       13047  United Kingdom         101   \n",
            "14 2010-12-01 08:34:00       4.25       13047  United Kingdom         101   \n",
            "\n",
            "    AvgUnitPrice  InvoiceMonth  InvoiceDay  InvoiceHour  UniqueProducts  \n",
            "0           2.55            12           1            8               9  \n",
            "1           3.39            12           1            8               9  \n",
            "2           2.75            12           1            8               9  \n",
            "3           3.39            12           1            8               9  \n",
            "4           3.39            12           1            8               9  \n",
            "5           7.65            12           1            8               9  \n",
            "6           4.25            12           1            8               9  \n",
            "7           1.85            12           1            8               9  \n",
            "8           1.85            12           1            8               9  \n",
            "9           1.69            12           1            8              17  \n",
            "10          2.10            12           1            8              17  \n",
            "11          2.10            12           1            8              17  \n",
            "12          3.75            12           1            8              17  \n",
            "13          1.65            12           1            8              17  \n",
            "14          4.25            12           1            8              17  \n"
          ]
        }
      ]
    },
    {
      "cell_type": "code",
      "source": [
        "#calculating mutual information\n",
        "# Select the target variable and predictor variables\n",
        "target_variable = \"Quantity\"\n",
        "predictor_variables = [\"StockCode\", \"Description\", \"UnitPrice\", \"CustomerID\"]"
      ],
      "metadata": {
        "id": "U7ke0Ufk6ZTH"
      },
      "execution_count": 49,
      "outputs": []
    },
    {
      "cell_type": "code",
      "source": [
        "# Subset the DataFrame to include only the relevant columns\n",
        "data = df_new[[target_variable] + predictor_variables]\n",
        "\n",
        "# Drop any rows with missing values\n",
        "data = data.dropna()\n",
        "\n",
        "# Convert the categorical variables to numeric labels\n",
        "for variable in predictor_variables:\n",
        "    data[variable] = data[variable].astype('category').cat.codes\n",
        "\n",
        "# Separate the target variable from the predictor variables\n",
        "X = data[predictor_variables]\n",
        "y = data[target_variable]\n",
        "\n",
        "# Calculate chi-square scores\n",
        "chi_scores = np.array(chi2(X, y)[1])  # Use the p-values from chi2 test\n",
        "\n",
        "# Print the chi-square scores for each predictor variable\n",
        "for variable, score in zip(predictor_variables, chi_scores):\n",
        "    print(f\"Chi-Square p-value for {variable}: {score}\")"
      ],
      "metadata": {
        "colab": {
          "base_uri": "https://localhost:8080/"
        },
        "id": "hojQlzSb6euS",
        "outputId": "2d7c426e-b546-448b-967b-b4c78ff6769f"
      },
      "execution_count": 50,
      "outputs": [
        {
          "output_type": "stream",
          "name": "stdout",
          "text": [
            "Chi-Square p-value for StockCode: 5.507066916944055e-24\n",
            "Chi-Square p-value for Description: 1.2237974663978213e-06\n",
            "Chi-Square p-value for UnitPrice: 5.206291980965743e-15\n",
            "Chi-Square p-value for CustomerID: 7.753594988280206e-06\n"
          ]
        }
      ]
    },
    {
      "cell_type": "code",
      "source": [
        "# Calculate the mutual information scores\n",
        "mi_scores = np.array(mutual_info_regression(X, y))\n",
        "\n",
        "# Calculate the correlation coefficients\n",
        "correlation_scores = np.array([abs(pearsonr(X[variable], y)[0]) for variable in predictor_variables])\n",
        "\n",
        "# Define the weights for each measure\n",
        "chi_weight = 1.0\n",
        "mi_weight = 0.5\n",
        "correlation_weight = 0.2\n",
        "\n",
        "# Calculate the relevance scores\n",
        "relevance_scores = chi_weight * chi_scores + mi_weight * mi_scores + correlation_weight * correlation_scores\n",
        "\n",
        "# Print the relevance scores for each predictor variable\n",
        "for variable, score in zip(predictor_variables, relevance_scores):\n",
        "    print(f\"Relevance score for {variable}: {score}\")"
      ],
      "metadata": {
        "colab": {
          "base_uri": "https://localhost:8080/"
        },
        "id": "xyTv8fh_6oVl",
        "outputId": "f8ef8e1f-c41b-42fc-8c14-bab2e7669a94"
      },
      "execution_count": 51,
      "outputs": [
        {
          "output_type": "stream",
          "name": "stdout",
          "text": [
            "Relevance score for StockCode: 0.09059645924135082\n",
            "Relevance score for Description: 0.011526369668114326\n",
            "Relevance score for UnitPrice: 0.24214996490604507\n",
            "Relevance score for CustomerID: 0.1606637735799456\n"
          ]
        }
      ]
    },
    {
      "cell_type": "markdown",
      "source": [],
      "metadata": {
        "id": "rd7SYvbx0CaT"
      }
    }
  ]
}